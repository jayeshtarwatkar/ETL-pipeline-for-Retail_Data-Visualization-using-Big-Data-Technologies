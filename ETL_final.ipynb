{
 "cells": [
  {
   "cell_type": "code",
   "execution_count": 1,
   "id": "98d176ce",
   "metadata": {},
   "outputs": [],
   "source": [
    "# Intialization\n",
    "import os\n",
    "import sys\n",
    "\n",
    "os.environ[\"SPARK_HOME\"] = \"/home/talentum/spark\"\n",
    "os.environ[\"PYLIB\"] = os.environ[\"SPARK_HOME\"] + \"/python/lib\"\n",
    "# In below two lines, use /usr/bin/python2.7 if you want to use Python 2\n",
    "os.environ[\"PYSPARK_PYTHON\"] = \"/usr/bin/python3.6\" \n",
    "os.environ[\"PYSPARK_DRIVER_PYTHON\"] = \"/usr/bin/python3\"\n",
    "sys.path.insert(0, os.environ[\"PYLIB\"] +\"/py4j-0.10.7-src.zip\")\n",
    "sys.path.insert(0, os.environ[\"PYLIB\"] +\"/pyspark.zip\")\n",
    "\n",
    "\n",
    "\n",
    "# NOTE: Whichever package you want mention here.\n",
    "#os.environ['PYSPARK_SUBMIT_ARGS'] = '--packages com.databricks:spark-xml_2.11:0.6.0,org.apache.spark:spark-avro_2.11:2.4.3 pyspark-shell'\n"
   ]
  },
  {
   "cell_type": "code",
   "execution_count": 2,
   "id": "12cdc8a0",
   "metadata": {},
   "outputs": [],
   "source": [
    "#Entrypoint 2.x\n",
    "from pyspark.sql import SparkSession\n",
    "spark = SparkSession.builder.appName(\"Spark SQL basic example\").enableHiveSupport().getOrCreate()\n",
    "\n",
    "sc = spark.sparkContext"
   ]
  },
  {
   "cell_type": "code",
   "execution_count": 3,
   "id": "3e6ef5f5",
   "metadata": {},
   "outputs": [],
   "source": [
    "#connection details\n",
    "url = \"jdbc:mysql://127.0.0.1:3306/test?useSSL=false&allowPublicKeyRetrieval=true\"\n",
    "driver = \"com.mysql.jdbc.Driver\"\n",
    "user = \"bigdata\"\n",
    "password = \"Bigdata@123\"\n"
   ]
  },
  {
   "cell_type": "code",
   "execution_count": 4,
   "id": "1922d040",
   "metadata": {},
   "outputs": [],
   "source": [
    "df_customers1 =  spark.read\\\n",
    "    .format(\"jdbc\")\\\n",
    "    .option(\"driver\", driver)\\\n",
    "    .option(\"url\", url)\\\n",
    "    .option(\"user\", user)\\\n",
    "    .option(\"password\", password)\\\n",
    "    .option(\"dbtable\", \"project.customers\")\\\n",
    "    .option(\"numPartitions\", 2)\\\n",
    "    .load()\n"
   ]
  },
  {
   "cell_type": "code",
   "execution_count": 5,
   "id": "9720a2f1",
   "metadata": {},
   "outputs": [
    {
     "name": "stdout",
     "output_type": "stream",
     "text": [
      "+--------------------+------------------------+--------------------+---------------+\n",
      "|         customer_id|customer_zip_code_prefix|       customer_city| customer_state|\n",
      "+--------------------+------------------------+--------------------+---------------+\n",
      "|         customer_id|    customer_zip_code...|       customer_city|customer_state\r",
      "|\n",
      "|861eff4711a542e4b...|                   14409|              franca|            SP\r",
      "|\n",
      "|290c77bc529b7ac93...|                    9790|sao bernardo do c...|            SP\r",
      "|\n",
      "+--------------------+------------------------+--------------------+---------------+\n",
      "only showing top 3 rows\n",
      "\n"
     ]
    }
   ],
   "source": [
    "df_customers1.show(3)"
   ]
  },
  {
   "cell_type": "code",
   "execution_count": 7,
   "id": "efafc5cf",
   "metadata": {},
   "outputs": [
    {
     "name": "stdout",
     "output_type": "stream",
     "text": [
      "+--------------------+------------------------+-------------+--------------+\n",
      "|         customer_id|customer_zip_code_prefix|customer_city|customer_state|\n",
      "+--------------------+------------------------+-------------+--------------+\n",
      "|1175e95fb47ddff9d...|                   81560|     curitiba|           PR\r",
      "|\n",
      "|1175e95fb47ddff9d...|                   81560|     curitiba|           PR\r",
      "|\n",
      "|f054e8c1cbcf5e89d...|                   78325|     aripuana|           MT\r",
      "|\n",
      "+--------------------+------------------------+-------------+--------------+\n",
      "only showing top 3 rows\n",
      "\n"
     ]
    }
   ],
   "source": [
    "df_customers=df_customers1.exceptAll(df_customers1.limit(1))\n",
    "\n",
    "df_customers.show(3)"
   ]
  },
  {
   "cell_type": "code",
   "execution_count": 23,
   "id": "e5d1de48",
   "metadata": {},
   "outputs": [],
   "source": [
    "#from pyspark.sql.functions import trim\n",
    "from pyspark.sql.types import StringType\n",
    "from pyspark.sql.functions import udf\n",
    "\n",
    "def trim(s):\n",
    "    return s.strip()\n",
    "\n",
    "udf_trim = udf(trim, StringType())\n",
    "\n",
    "df_c = df_customers.withColumn(\"customer_state\", udf_trim(\"customer_state\"))\n",
    "\n",
    "\n"
   ]
  },
  {
   "cell_type": "code",
   "execution_count": 24,
   "id": "28ac39b4",
   "metadata": {},
   "outputs": [],
   "source": [
    "df_payments1 =  spark.read\\\n",
    "    .format(\"jdbc\")\\\n",
    "    .option(\"driver\", driver)\\\n",
    "    .option(\"url\", url)\\\n",
    "    .option(\"user\", user)\\\n",
    "    .option(\"password\", password)\\\n",
    "    .option(\"dbtable\", \"project.payments\")\\\n",
    "    .load()\n"
   ]
  },
  {
   "cell_type": "code",
   "execution_count": 25,
   "id": "2a4999d8",
   "metadata": {},
   "outputs": [
    {
     "name": "stdout",
     "output_type": "stream",
     "text": [
      "+--------------------+------------------+------------+--------------------+-------------+\n",
      "|            order_id|payment_sequential|payment_type|payment_installments|payment_value|\n",
      "+--------------------+------------------+------------+--------------------+-------------+\n",
      "|8e47a04b25d7a7075...|                 1| credit_card|                   1|        37.61|\n",
      "|8e47a04b25d7a7075...|                 1| credit_card|                   1|        37.61|\n",
      "|6b58f3523e45f9838...|                 1| credit_card|                   1|        44.23|\n",
      "+--------------------+------------------+------------+--------------------+-------------+\n",
      "only showing top 3 rows\n",
      "\n"
     ]
    }
   ],
   "source": [
    "df_payments=df_payments1.exceptAll(df_payments1.limit(1))\n",
    "df_payments.show(3)"
   ]
  },
  {
   "cell_type": "code",
   "execution_count": 26,
   "id": "5b5be494",
   "metadata": {},
   "outputs": [],
   "source": [
    "df_orders1 = spark.read \\\n",
    "    .format(\"csv\") \\\n",
    "    .option(\"header\", \"true\") \\\n",
    "    .option(\"inferSchema\", \"true\") \\\n",
    "    .load(\"file:///home/talentum/project/orders.csv\") \\\n",
    "\n",
    "\n"
   ]
  },
  {
   "cell_type": "code",
   "execution_count": 27,
   "id": "4431c577",
   "metadata": {},
   "outputs": [],
   "source": [
    "df_orders=df_orders1.exceptAll(df_orders1.limit(1))"
   ]
  },
  {
   "cell_type": "code",
   "execution_count": 28,
   "id": "23948203",
   "metadata": {},
   "outputs": [
    {
     "name": "stdout",
     "output_type": "stream",
     "text": [
      "+--------------------+--------------------+------------+------------------------+-----------------+-------------------------+-----------------------------+\n",
      "|            order_id|         customer_id|order_status|order_purchase_timestamp|order_approved_at|order_delivered_timestamp|order_estimated_delivery_date|\n",
      "+--------------------+--------------------+------------+------------------------+-----------------+-------------------------+-----------------------------+\n",
      "|01835ef41c5ac66dd...|f64ee7b44a9c2170a...|   delivered|        11-05-2017 21:36| 11-05-2017 21:45|         23-05-2017 22:13|             01-06-2017 00:00|\n",
      "|d5211af24819d319c...|a5931be4783e1a1df...|   delivered|        03-08-2018 16:29| 03-08-2018 16:45|         09-08-2018 15:09|             05-09-2018 00:00|\n",
      "|d85553b6a0d18ab73...|6ee9dd7a3a539c1ae...|   delivered|        09-06-2018 12:33| 09-06-2018 12:58|         20-06-2018 18:52|             11-07-2018 00:00|\n",
      "+--------------------+--------------------+------------+------------------------+-----------------+-------------------------+-----------------------------+\n",
      "only showing top 3 rows\n",
      "\n"
     ]
    }
   ],
   "source": [
    "df_orders.show(3)\n",
    "\n"
   ]
  },
  {
   "cell_type": "code",
   "execution_count": 29,
   "id": "3e40b9f4",
   "metadata": {},
   "outputs": [],
   "source": [
    "df_order_items = spark.read \\\n",
    "    .format(\"csv\") \\\n",
    "    .option(\"header\", \"true\") \\\n",
    "    .option(\"inferSchema\", \"true\") \\\n",
    "    .load(\"file:///home/talentum/project/order_items.csv\") \\\n",
    "\n"
   ]
  },
  {
   "cell_type": "code",
   "execution_count": 30,
   "id": "f041a786",
   "metadata": {},
   "outputs": [
    {
     "name": "stdout",
     "output_type": "stream",
     "text": [
      "+--------------------------------+-------------+--------------------------------+--------------------------------+-----+----------------+\n",
      "|order_id                        |order_item_id|product_id                      |seller_id                       |price|shipping_charges|\n",
      "+--------------------------------+-------------+--------------------------------+--------------------------------+-----+----------------+\n",
      "|00010242fe8c5a6d1ba2dd792cb16214|1            |4244733e06e7ecb4970a6e2683c13e61|48436dade18ac8b2bce089ec2a041202|58.9 |13.29           |\n",
      "|00018f77f2f0320c557190d7a144bdd3|1            |e5f2d52b802189ee658865ca93d83a8f|dd7ddc04e1b6c2c614352b383efe2d36|239.9|19.93           |\n",
      "|000229ec398224ef6ca0657da4fc703e|1            |c777355d18b72b67abbeef9df44fd0fd|5b51032eddd242adc84c38acab88f23d|199.0|17.87           |\n",
      "+--------------------------------+-------------+--------------------------------+--------------------------------+-----+----------------+\n",
      "only showing top 3 rows\n",
      "\n"
     ]
    }
   ],
   "source": [
    "df_order_items.show(3,truncate=False)"
   ]
  },
  {
   "cell_type": "code",
   "execution_count": 31,
   "id": "ee7784ff",
   "metadata": {},
   "outputs": [],
   "source": [
    "df_products = spark.read \\\n",
    "    .format(\"csv\") \\\n",
    "    .option(\"header\", \"true\") \\\n",
    "    .option(\"inferSchema\", \"true\") \\\n",
    "    .load(\"file:///home/talentum/project/products.csv\") \n",
    "\n"
   ]
  },
  {
   "cell_type": "code",
   "execution_count": 32,
   "id": "e55e0193",
   "metadata": {},
   "outputs": [
    {
     "name": "stdout",
     "output_type": "stream",
     "text": [
      "+--------------------+---------------------+----------------+-----------------+-----------------+----------------+\n",
      "|          product_id|product_category_name|product_weight_g|product_length_cm|product_height_cm|product_width_cm|\n",
      "+--------------------+---------------------+----------------+-----------------+-----------------+----------------+\n",
      "|1e9e8ef04dbcff454...|            perfumery|             225|               16|               10|              14|\n",
      "|3aa071139cb16b67c...|                  art|            1000|               30|               18|              20|\n",
      "|96bd76ec8810374ed...|       sports_leisure|             154|               18|                9|              15|\n",
      "+--------------------+---------------------+----------------+-----------------+-----------------+----------------+\n",
      "only showing top 3 rows\n",
      "\n"
     ]
    }
   ],
   "source": [
    "df_products.show(3)"
   ]
  },
  {
   "cell_type": "code",
   "execution_count": 36,
   "id": "18b6c688",
   "metadata": {},
   "outputs": [],
   "source": [
    "# Register DataFrames as temporary SQL tables\n",
    "# df_c.createOrReplaceTempView(\"customers\")\n",
    "# df_payments.createOrReplaceTempView(\"payments\")\n",
    "# df_products.createOrReplaceTempView(\"products\")\n",
    "# df_order_items.createOrReplaceTempView(\"order_items\")\n",
    "# df_orders.createOrReplaceTempView(\"orders\")\n",
    "from pyspark.sql.functions import col\n",
    "\n",
    "retail_inner_join = df_c.alias(\"t1\").join(df_orders.alias(\"t2\"), col(\"t1.customer_id\") == col(\"t2.customer_id\")) \\\n",
    "    .join(df_payments.alias(\"t3\"), col(\"t2.order_id\") == col(\"t3.order_id\")) \\\n",
    "    .join(df_order_items.alias(\"t4\"), col(\"t3.order_id\") == col(\"t4.order_id\")) \\\n",
    "    .join(df_products.alias(\"t5\"), col(\"t4.product_id\") == col(\"t5.product_id\")) \\\n",
    "    .select(\n",
    "        col(\"t1.customer_id\"),\n",
    "        col(\"t1.customer_city\"),\n",
    "        col(\"t1.customer_state\"),\n",
    "        col(\"t2.order_id\"),\n",
    "        col(\"t2.order_status\"),\n",
    "        col(\"t2.order_approved_at\"),\n",
    "        col(\"t2.order_delivered_timestamp\"),\n",
    "        col(\"t3.payment_sequential\"),\n",
    "        col(\"t3.payment_type\"),\n",
    "        col(\"t3.payment_value\"),\n",
    "        col(\"t4.order_item_id\"),\n",
    "        col(\"t4.product_id\"),\n",
    "        col(\"t4.seller_id\"),\n",
    "        col(\"t5.product_category_name\"))\n",
    "    \n",
    "\n"
   ]
  },
  {
   "cell_type": "code",
   "execution_count": 37,
   "id": "ed712e3e",
   "metadata": {},
   "outputs": [
    {
     "name": "stdout",
     "output_type": "stream",
     "text": [
      "+--------------------+-------------+--------------+--------------------+------------+-----------------+-------------------------+------------------+------------+-------------+-------------+--------------------+--------------------+---------------------+\n",
      "|         customer_id|customer_city|customer_state|            order_id|order_status|order_approved_at|order_delivered_timestamp|payment_sequential|payment_type|payment_value|order_item_id|          product_id|           seller_id|product_category_name|\n",
      "+--------------------+-------------+--------------+--------------------+------------+-----------------+-------------------------+------------------+------------+-------------+-------------+--------------------+--------------------+---------------------+\n",
      "|e8d87ee946600f775...|     mesquita|            RJ|014405982914c2cde...|   delivered| 26-07-2017 17:50|         31-07-2017 15:53|                 1| credit_card|        78.43|            2|e95ee6822b66ac605...|a17f621c590ea0fab...|                 toys|\n",
      "|e8d87ee946600f775...|     mesquita|            RJ|014405982914c2cde...|   delivered| 26-07-2017 17:50|         31-07-2017 15:53|                 1| credit_card|        78.43|            1|6782d593f63105318...|325f3178fb58e2a97...|                 toys|\n",
      "|e8d87ee946600f775...|     mesquita|            RJ|014405982914c2cde...|   delivered| 26-07-2017 17:50|         31-07-2017 15:53|                 1| credit_card|        78.43|            2|e95ee6822b66ac605...|a17f621c590ea0fab...|                 toys|\n",
      "+--------------------+-------------+--------------+--------------------+------------+-----------------+-------------------------+------------------+------------+-------------+-------------+--------------------+--------------------+---------------------+\n",
      "only showing top 3 rows\n",
      "\n"
     ]
    }
   ],
   "source": [
    "retail_inner_join.show(3,truncate=True)"
   ]
  },
  {
   "cell_type": "code",
   "execution_count": 38,
   "id": "e82dfcce",
   "metadata": {
    "scrolled": true
   },
   "outputs": [],
   "source": [
    "\n",
    "dictionary={'SP': 'São Paulo',\n",
    " 'SC': 'Santa Catarina',\n",
    " 'MG': 'Minas Gerais',\n",
    " 'PR': 'Paraná',\n",
    " 'RJ': 'Rio de Janeiro',\n",
    " 'RS': 'Rio Grande do Sul',\n",
    " 'PA': 'Pará',\n",
    " 'GO': 'Goiás',\n",
    " 'ES': 'Espírito Santo',\n",
    " 'BA': 'Bahia',\n",
    " 'MA': 'Maranhão',\n",
    " 'MS': 'Mato Grosso do Sul',\n",
    " 'CE': 'Ceará',\n",
    " 'DF': 'Distrito Federal',\n",
    " 'RN': 'Rio Grande do Norte',\n",
    " 'PE': 'Pernambuco',\n",
    " 'MT': 'Mato Grosso',\n",
    " 'AM': 'Amazonas',\n",
    " 'AP': 'Amapá',\n",
    " 'AL': 'Alagoas',\n",
    " 'RO': 'Rondônia',\n",
    " 'PB': 'Paraíba',\n",
    " 'TO': 'Tocantins',\n",
    " 'PI': 'Piauí',\n",
    " 'AC': 'Acre',\n",
    " 'SE': 'Sergipe',\n",
    " 'RR': 'Roraima'}\n",
    "\n",
    "\n"
   ]
  },
  {
   "cell_type": "code",
   "execution_count": 39,
   "id": "9b2e8a82",
   "metadata": {},
   "outputs": [],
   "source": [
    "from pyspark.sql.types import StringType\n",
    "from pyspark.sql.functions import udf\n",
    "\n",
    "def translate(dictionary):\n",
    "    \n",
    "    return udf(lambda col: dictionary.get(col),StringType())\n",
    "  \n",
    "\n",
    "  \n",
    "# Create a new column by calling the function to map the values\n",
    "df_state=retail_inner_join.withColumn(\"state\",\n",
    "              translate(dictionary)(\"customer_state\"))\n",
    "\n",
    "\n"
   ]
  },
  {
   "cell_type": "code",
   "execution_count": 40,
   "id": "e45c734c",
   "metadata": {},
   "outputs": [
    {
     "name": "stdout",
     "output_type": "stream",
     "text": [
      "+-------------+--------------+--------------+\n",
      "|customer_city|customer_state|         state|\n",
      "+-------------+--------------+--------------+\n",
      "|     mesquita|            RJ|Rio de Janeiro|\n",
      "|     mesquita|            RJ|Rio de Janeiro|\n",
      "|     mesquita|            RJ|Rio de Janeiro|\n",
      "+-------------+--------------+--------------+\n",
      "only showing top 3 rows\n",
      "\n"
     ]
    }
   ],
   "source": [
    "df_state.select(\"customer_city\", \"customer_state\", \"state\").show(3)\n"
   ]
  },
  {
   "cell_type": "code",
   "execution_count": 41,
   "id": "1b5e26e1",
   "metadata": {},
   "outputs": [
    {
     "name": "stdout",
     "output_type": "stream",
     "text": [
      "['customer_id', 'customer_city', 'customer_state', 'order_id', 'order_status', 'order_approved_at', 'order_delivered_timestamp', 'payment_sequential', 'payment_type', 'payment_value', 'order_item_id', 'product_id', 'seller_id', 'product_category_name', 'state']\n"
     ]
    }
   ],
   "source": [
    "print(df_state.columns)"
   ]
  },
  {
   "cell_type": "code",
   "execution_count": 42,
   "id": "821ffd99",
   "metadata": {},
   "outputs": [],
   "source": [
    "dictionary_product={\n",
    "  \"perfumery\": \"Health and Beauty\",\n",
    "  \"art\": \"Art\",\n",
    "  \"sports_leisure\": \"Sports and Leisure\",\n",
    "  \"baby\": \"Baby\",\n",
    "  \"housewares\": \"Housewares\",\n",
    "  \"musical_instruments\": \"Musical Instruments\",\n",
    "  \"cool_stuff\": \"Cool Stuff\",\n",
    "  \"furniture_decor\": \"Furniture\",\n",
    "  \"home_appliances\": \"Home Appliances\",\n",
    "  \"toys\": \"Toys\",\n",
    "  \"bed_bath_table\": \"Homewares\",\n",
    "  \"construction_tools_safety\": \"Construction Tools\",\n",
    "  \"computers_accessories\": \"Electronics\",\n",
    "  \"health_beauty\": \"Health and Beauty\",\n",
    "  \"luggage_accessories\": \"Travel\",\n",
    "  \"garden_tools\": \"Garden\",\n",
    "  \"office_furniture\": \"Furniture\",\n",
    "  \"auto\": \"Automotive\",\n",
    "  \"electronics\": \"Electronics\",\n",
    "  \"fashion_shoes\": \"Fashion\",\n",
    "  \"telephony\": \"Telephony\",\n",
    "  \"stationery\": \"Stationery\",\n",
    "  \"fashion_bags_accessories\": \"Fashion\",\n",
    "  \"computers\": \"Electronics\",\n",
    "  \"home_construction\": \"Home Improvement\",\n",
    "  \"watches_gifts\": \"Gifts\",\n",
    "  \"construction_tools_construction\": \"Construction Tools\",\n",
    "  \"pet_shop\": \"Pets\",\n",
    "  \"small_appliances\": \"Home Appliances\",\n",
    "  \"agro_industry_and_commerce\": \"Business\",\n",
    "  \"NA\": \"Others\",\n",
    "  \"furniture_living_room\": \"Furniture\",\n",
    "  \"signaling_and_security\": \"Security\",\n",
    "  \"air_conditioning\": \"Home Appliances\",\n",
    "  \"consoles_games\": \"Entertainment\",\n",
    "  \"books_general_interest\": \"Books\",\n",
    "  \"costruction_tools_tools\": \"Construction Tools\",\n",
    "  \"fashion_underwear_beach\": \"Fashion\",\n",
    "  \"fashion_male_clothing\": \"Fashion\",\n",
    "  \"kitchen_dining_laundry_garden_furniture\": \"Furniture\",\n",
    "  \"industry_commerce_and_business\": \"Business\",\n",
    "  \"fixed_telephony\": \"Telephony\",\n",
    "  \"construction_tools_lights\": \"Construction Tools\",\n",
    "  \"books_technical\": \"Books\",\n",
    "  \"home_appliances_2\": \"Home Appliances\",\n",
    "  \"party_supplies\": \"Others\",\n",
    "  \"drinks\": \"Food and Drink\",\n",
    "  \"market_place\": \"Others\",\n",
    "  \"la_cuisine\": \"Home Appliances\",\n",
    "  \"costruction_tools_garden\": \"Garden\",\n",
    "  \"fashio_female_clothing\": \"Fashion\",\n",
    "  \"home_confort\": \"Home Improvement\",\n",
    "  \"audio\": \"Electronics\",\n",
    "  \"food_drink\": \"Food and Drink\",\n",
    "  \"music\": \"Entertainment\",\n",
    "  \"food\": \"Food and Drink\",\n",
    "  \"tablets_printing_image\": \"Electronics\",\n",
    "  \"books_imported\": \"Books\",\n",
    "  \"small_appliances_home_oven_and_coffee\": \"Home Appliances\",\n",
    "  \"fashion_sport\": \"Sports and Leisure\",\n",
    "  \"christmas_supplies\": \"Others\",\n",
    "  \"fashion_childrens_clothes\": \"Fashion\",\n",
    "  \"dvds_blu_ray\": \"Entertainment\",\n",
    "  \"arts_and_craftmanship\": \"Arts and Crafts\",\n",
    "  \"furniture_bedroom\": \"Furniture\",\n",
    "  \"cine_photo\": \"Entertainment\",\n",
    "  \"diapers_and_hygiene\": \"Baby\",\n",
    "  \"flowers\": \"Home and Garden\",\n",
    "  \"home_comfort_2\": \"Home Improvement\",\n",
    "  \"security_and_services\": \"Security\",\n",
    "  \"furniture_mattress_and_upholstery\": \"Furniture\"\n",
    "}\n",
    "\n",
    "# def find_unique_values(dict):\n",
    "#   values = set(dict.values())\n",
    "#   return values\n",
    "\n",
    "# print(find_unique_values(dictionary_product))"
   ]
  },
  {
   "cell_type": "code",
   "execution_count": 43,
   "id": "38b19626",
   "metadata": {},
   "outputs": [],
   "source": [
    "# Create a new column by calling the function to map the values\n",
    "df_category=df_state.withColumn(\"category\",\n",
    "              translate(dictionary_product)(\"product_category_name\"))"
   ]
  },
  {
   "cell_type": "code",
   "execution_count": 45,
   "id": "d5917f75",
   "metadata": {},
   "outputs": [
    {
     "name": "stdout",
     "output_type": "stream",
     "text": [
      "+---------------------+--------+--------------+\n",
      "|product_category_name|category|         state|\n",
      "+---------------------+--------+--------------+\n",
      "|                 toys|    Toys|Rio de Janeiro|\n",
      "|                 toys|    Toys|Rio de Janeiro|\n",
      "|                 toys|    Toys|Rio de Janeiro|\n",
      "+---------------------+--------+--------------+\n",
      "only showing top 3 rows\n",
      "\n"
     ]
    }
   ],
   "source": [
    "df_category.select(\"product_category_name\", \"category\", \"state\").show(3)"
   ]
  },
  {
   "cell_type": "code",
   "execution_count": 46,
   "id": "a9c34c72",
   "metadata": {},
   "outputs": [
    {
     "data": {
      "text/plain": [
       "['customer_id',\n",
       " 'customer_city',\n",
       " 'customer_state',\n",
       " 'order_id',\n",
       " 'order_status',\n",
       " 'order_approved_at',\n",
       " 'order_delivered_timestamp',\n",
       " 'payment_sequential',\n",
       " 'payment_type',\n",
       " 'payment_value',\n",
       " 'order_item_id',\n",
       " 'product_id',\n",
       " 'seller_id',\n",
       " 'product_category_name',\n",
       " 'state',\n",
       " 'category']"
      ]
     },
     "execution_count": 46,
     "metadata": {},
     "output_type": "execute_result"
    }
   ],
   "source": [
    "df_category.columns\n"
   ]
  },
  {
   "cell_type": "code",
   "execution_count": 47,
   "id": "5b5a7173",
   "metadata": {},
   "outputs": [
    {
     "data": {
      "text/plain": [
       "['customer_id',\n",
       " 'customer_city',\n",
       " 'order_id',\n",
       " 'order_status',\n",
       " 'payment_sequential',\n",
       " 'payment_type',\n",
       " 'payment_value',\n",
       " 'order_item_id',\n",
       " 'product_id',\n",
       " 'seller_id',\n",
       " 'state',\n",
       " 'category']"
      ]
     },
     "execution_count": 47,
     "metadata": {},
     "output_type": "execute_result"
    }
   ],
   "source": [
    "#df.drop([\"order_approved_at\", \"order_delivered_timestamp\"])\n",
    "df_final=df_category.drop(\"customer_state\", \"order_approved_at\", \"order_delivered_timestamp\",\"product_category_name\")\n",
    "df_final.columns"
   ]
  },
  {
   "cell_type": "code",
   "execution_count": 48,
   "id": "0d6a513c",
   "metadata": {},
   "outputs": [],
   "source": [
    " # Saving modes\n",
    "df_final.write.mode('overwrite').option(\"path\",\"/home/talentum/retail_data\").saveAsTable(\"retail\")"
   ]
  }
 ],
 "metadata": {
  "kernelspec": {
   "display_name": "Python 3",
   "language": "python",
   "name": "python3"
  },
  "language_info": {
   "codemirror_mode": {
    "name": "ipython",
    "version": 3
   },
   "file_extension": ".py",
   "mimetype": "text/x-python",
   "name": "python",
   "nbconvert_exporter": "python",
   "pygments_lexer": "ipython3",
   "version": "3.6.9"
  }
 },
 "nbformat": 4,
 "nbformat_minor": 5
}
